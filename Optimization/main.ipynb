{
 "cells": [
  {
   "cell_type": "markdown",
   "metadata": {},
   "source": [
    "# Implementación del algoritmo PSO para el clustering de puntos georeferenciados\n",
    "---"
   ]
  },
  {
   "cell_type": "markdown",
   "metadata": {},
   "source": [
    "## Introducción \n",
    "En este proyecto implementamos el algoritmo de optimizacion [PSO](https://es.wikipedia.org/wiki/Optimizaci%C3%B3n_por_enjambre_de_part%C3%ADculas) y lo modificamos para optimizar el clustering de puntos georeferenciados. Los puntos georeferenciados tienen los atributos latitud, longitud y tiempo en tienda. Al hacer el clustering se intenta minimizar la varianza entre los totales de tiempo en tienda de cada cluster, intentando así que todos los grupos se parezcan en sus sumas de tiempos en tienda.\n"
   ]
  },
  {
   "cell_type": "markdown",
   "metadata": {},
   "source": [
    "## Implementación\n",
    "---"
   ]
  },
  {
   "cell_type": "code",
   "execution_count": 1,
   "metadata": {},
   "outputs": [],
   "source": [
    "#This is magic, don't touch it\n",
    "%reload_ext autoreload\n",
    "%autoreload 2\n",
    "%matplotlib inline\n"
   ]
  },
  {
   "cell_type": "markdown",
   "metadata": {},
   "source": [
    "El proyecto está siendo desarrollado como una librería de python 2.7 que consta de 3 partes principales:\n",
    "* utils.py\n",
    "\n",
    "   Este archivo ccontiene funciones que propiamente no pertenecen a PSO pero que son utilizadas dentro de la implementación para sacar distancias, areas, etc.\n",
    "* classes.py\n",
    "\n",
    "   Este archivo contiene las clases que usamos para representar los puntos y clusters de puntos.\n",
    "   \n",
    "* pso.py \n",
    "\n",
    "   Este archivo contiene nuestra implementación de PSO para clusterizar usando como función fitnes la varianza entre los totales de tiempo en tienda de los clusters."
   ]
  },
  {
   "cell_type": "code",
   "execution_count": 12,
   "metadata": {},
   "outputs": [],
   "source": [
    "import pandas as pd #esto es para la visualización de los resultados \n",
    "import numpy as np #esto es para la visualización de los resultados\n",
    "from pyoptclass import utils as utl\n",
    "from pyoptclass import pso"
   ]
  },
  {
   "cell_type": "markdown",
   "metadata": {},
   "source": [
    "### Extracción de los datos\n",
    "La función getData abre el archivo csv de los puntos, extrae la latitud, longitud y calcula el tiempo el tienda de cada punto, y regresa un arreglo de arreglos del tipo [numpay.array](https://docs.scipy.org/doc/numpy/reference/generated/numpy.array.html)"
   ]
  },
  {
   "cell_type": "code",
   "execution_count": 3,
   "metadata": {},
   "outputs": [],
   "source": [
    "data = utl.getData(file_path=\"./../assets/sprint7ToroideMixto.csv\")"
   ]
  },
  {
   "cell_type": "code",
   "execution_count": 7,
   "metadata": {},
   "outputs": [
    {
     "data": {
      "text/plain": [
       "array([[  20.60294, -100.431  ,  780.     ],\n",
       "       [  20.6063 , -100.4371 ,  700.     ],\n",
       "       [  20.58149, -100.41   , 2600.     ],\n",
       "       ...,\n",
       "       [  20.5871 , -100.356  , 1200.     ],\n",
       "       [  20.6428 , -100.4501 , 1200.     ],\n",
       "       [  20.6389 , -100.3799 , 1200.     ]])"
      ]
     },
     "execution_count": 7,
     "metadata": {},
     "output_type": "execute_result"
    }
   ],
   "source": [
    "data"
   ]
  },
  {
   "cell_type": "markdown",
   "metadata": {},
   "source": [
    "### PSO\n",
    "vamos a usar pso para buscar las soluciones al problema usando diferentes tamaños de población y por cada tamaño de población haremos 30 corridas del algoritmo, luego promediaremos y calcularemos la varianza para cada grupo de corridas. Comparando la varianza y el promedio de la solucion que genera nuestro algoritmo por cada tamaño de población nos permite evaluar su eficacia."
   ]
  },
  {
   "cell_type": "markdown",
   "metadata": {},
   "source": [
    "vamos a crear un [dataFrame](https://pandas.pydata.org/pandas-docs/stable/reference/api/pandas.DataFrame.html#pandas.DataFrame) de pandas para almacenar los resultados y luego poder visualizarlos de una forma más cómoda."
   ]
  },
  {
   "cell_type": "code",
   "execution_count": 31,
   "metadata": {},
   "outputs": [],
   "source": [
    "res_pd = pd.DataFrame(columns=[\"Tamaño población\",\"Iteraciones\",\"Fitness promedio\",\"Varianza\"])"
   ]
  },
  {
   "cell_type": "markdown",
   "metadata": {},
   "source": [
    "Corremos PSO 30 veces por cada tamaño de población"
   ]
  },
  {
   "cell_type": "code",
   "execution_count": null,
   "metadata": {},
   "outputs": [],
   "source": [
    "tamanos_poblacion = [10, 30, 50, 100]\n",
    "iteraciones = 100\n",
    "\n",
    "for N in tamanos_poblacion:\n",
    "    resultados = []\n",
    "    for _ in xrange(30):\n",
    "        pso = pso.PSO(data, N, max_iter = iteraciones, seed = None)\n",
    "        resultados.append(pso.search[0])\n",
    "    var = np.var(resultados)\n",
    "    prom = np.average(resultados)\n",
    "    res_pd.append(pd.Series([N, iteraciones, prom, var],index=res_pd.columns), ignore_index=True)\n",
    "    \n",
    "    \n",
    "    "
   ]
  },
  {
   "cell_type": "markdown",
   "metadata": {},
   "source": [
    "### Resultados\n"
   ]
  },
  {
   "cell_type": "code",
   "execution_count": 32,
   "metadata": {},
   "outputs": [
    {
     "data": {
      "text/html": [
       "<div>\n",
       "<style scoped>\n",
       "    .dataframe tbody tr th:only-of-type {\n",
       "        vertical-align: middle;\n",
       "    }\n",
       "\n",
       "    .dataframe tbody tr th {\n",
       "        vertical-align: top;\n",
       "    }\n",
       "\n",
       "    .dataframe thead th {\n",
       "        text-align: right;\n",
       "    }\n",
       "</style>\n",
       "<table border=\"1\" class=\"dataframe\">\n",
       "  <thead>\n",
       "    <tr style=\"text-align: right;\">\n",
       "      <th></th>\n",
       "      <th>Tamaño población</th>\n",
       "      <th>Iteraciones</th>\n",
       "      <th>Fitness promedio</th>\n",
       "      <th>Varianza</th>\n",
       "    </tr>\n",
       "  </thead>\n",
       "  <tbody>\n",
       "  </tbody>\n",
       "</table>\n",
       "</div>"
      ],
      "text/plain": [
       "Empty DataFrame\n",
       "Columns: [Tamaño población, Iteraciones, Fitness promedio, Varianza]\n",
       "Index: []"
      ]
     },
     "execution_count": 32,
     "metadata": {},
     "output_type": "execute_result"
    }
   ],
   "source": [
    "res_pd"
   ]
  }
 ],
 "metadata": {
  "kernelspec": {
   "display_name": "Optimization",
   "language": "python",
   "name": "optimization"
  },
  "language_info": {
   "codemirror_mode": {
    "name": "ipython",
    "version": 2
   },
   "file_extension": ".py",
   "mimetype": "text/x-python",
   "name": "python",
   "nbconvert_exporter": "python",
   "pygments_lexer": "ipython2",
   "version": "2.7.15"
  }
 },
 "nbformat": 4,
 "nbformat_minor": 2
}
